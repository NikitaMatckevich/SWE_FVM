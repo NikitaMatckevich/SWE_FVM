{
 "cells": [
  {
   "cell_type": "code",
   "execution_count": 1,
   "id": "30ee1176-d990-44d0-9180-3a89d16db42f",
   "metadata": {},
   "outputs": [],
   "source": [
    "import SWE_FVM as swe\n",
    "import numpy as np"
   ]
  },
  {
   "cell_type": "code",
   "execution_count": 2,
   "id": "8634091c-9ca8-44c1-91c8-067122030bb2",
   "metadata": {},
   "outputs": [],
   "source": [
    "nodes = 3\n",
    "edge_nodes = np.array([[0, 1], [0, 2], [1, 2]])\n",
    "edge_triangs = np.array([[0, -1], [0, -1], [0, -1]])\n",
    "triang_nodes = np.array([[0, 1, 2]])\n",
    "triang_edges = np.array([[0, 1, 2]])\n",
    "triang_triangs = np.array([[-1, -1, -1]])"
   ]
  },
  {
   "cell_type": "code",
   "execution_count": 3,
   "id": "dfcec36d-f754-4a3d-8c74-577df44b9deb",
   "metadata": {},
   "outputs": [],
   "source": [
    "mesh = swe.Topology.create(nodes, edge_nodes, edge_triangs, triang_nodes, triang_edges, triang_triangs)"
   ]
  },
  {
   "cell_type": "code",
   "execution_count": 14,
   "id": "86bae0f6-74e1-4de6-bb22-50a56373e9e8",
   "metadata": {},
   "outputs": [
    {
     "data": {
      "text/plain": [
       "3"
      ]
     },
     "execution_count": 14,
     "metadata": {},
     "output_type": "execute_result"
    }
   ],
   "source": [
    "mesh.num_nodes()"
   ]
  },
  {
   "cell_type": "code",
   "execution_count": 19,
   "id": "71bb9ec5-666f-4de2-a3ac-79ea2a6eb1ae",
   "metadata": {},
   "outputs": [
    {
     "data": {
      "text/plain": [
       "240"
      ]
     },
     "execution_count": 19,
     "metadata": {},
     "output_type": "execute_result"
    }
   ],
   "source": [
    "mesh.num_edges()"
   ]
  },
  {
   "cell_type": "code",
   "execution_count": 12,
   "id": "7f2714d2-b66b-440d-9c8e-d93dcf8fd40c",
   "metadata": {},
   "outputs": [
    {
     "data": {
      "text/plain": [
       "1"
      ]
     },
     "execution_count": 12,
     "metadata": {},
     "output_type": "execute_result"
    }
   ],
   "source": [
    "mesh.num_elements()"
   ]
  }
 ],
 "metadata": {
  "kernelspec": {
   "display_name": "Python 3 (ipykernel)",
   "language": "python",
   "name": "python3"
  },
  "language_info": {
   "codemirror_mode": {
    "name": "ipython",
    "version": 3
   },
   "file_extension": ".py",
   "mimetype": "text/x-python",
   "name": "python",
   "nbconvert_exporter": "python",
   "pygments_lexer": "ipython3",
   "version": "3.11.4"
  }
 },
 "nbformat": 4,
 "nbformat_minor": 5
}
