{
 "cells": [
  {
   "cell_type": "code",
   "execution_count": 3,
   "id": "30ee1176-d990-44d0-9180-3a89d16db42f",
   "metadata": {},
   "outputs": [],
   "source": [
    "import SWE_FVM as swe"
   ]
  },
  {
   "cell_type": "code",
   "execution_count": null,
   "id": "95b72f64-dcec-4d77-8aa1-38facadbea09",
   "metadata": {},
   "outputs": [],
   "source": [
    "topology = swe.Topology();"
   ]
  }
 ],
 "metadata": {
  "kernelspec": {
   "display_name": "Python 3 (ipykernel)",
   "language": "python",
   "name": "python3"
  },
  "language_info": {
   "codemirror_mode": {
    "name": "ipython",
    "version": 3
   },
   "file_extension": ".py",
   "mimetype": "text/x-python",
   "name": "python",
   "nbconvert_exporter": "python",
   "pygments_lexer": "ipython3",
   "version": "3.11.4"
  }
 },
 "nbformat": 4,
 "nbformat_minor": 5
}
