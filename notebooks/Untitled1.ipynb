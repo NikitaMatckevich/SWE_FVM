{
 "cells": [
  {
   "cell_type": "code",
   "execution_count": 18,
   "id": "30ee1176-d990-44d0-9180-3a89d16db42f",
   "metadata": {},
   "outputs": [],
   "source": [
    "import SWE_FVM as swe\n",
    "import numpy as np"
   ]
  },
  {
   "cell_type": "code",
   "execution_count": 19,
   "id": "8634091c-9ca8-44c1-91c8-067122030bb2",
   "metadata": {},
   "outputs": [],
   "source": [
    "nodes = 3\n",
    "edge_nodes = np.array([[0, 1], [0, 2], [1, 2]])\n",
    "edge_triangs = np.array([[0, -1], [0, -1], [0, -1]])\n",
    "triang_nodes = np.array([[0, 1, 2]])\n",
    "triang_edges = np.array([[0, 1, 2]])\n",
    "triang_triangs = np.array([[-1, -1, -1]])"
   ]
  },
  {
   "cell_type": "code",
   "execution_count": 12,
   "id": "eaa6d2fb-4414-4bf8-995a-700f07ef2b57",
   "metadata": {},
   "outputs": [
    {
     "name": "stdout",
     "output_type": "stream",
     "text": [
      "root         971  0.0  0.0 118844  8064 ?        Ssl  Jun27   0:00 /usr/bin/python3 /usr/share/unattended-upgrades/unattended-upgrade-shutdown --wait-for-signal\n",
      "nmh         3153  0.0  0.0 521964 13696 ?        Sl   Jun27   0:03 /usr/bin/python3 /usr/bin/blueman-applet\n",
      "nmh         3468  0.0  0.1 354320 35164 ?        Sl   Jun27   5:47 /usr/bin/python3 /usr/bin/blueman-tray\n",
      "nmh       356417  0.3  0.3 551536 105824 pts/4   Sl+  22:58   0:03 /home/nmh/Code/SWE_FVM/venv/bin/python3 /home/nmh/Code/SWE_FVM/venv/bin/jupyter-lab\n",
      "nmh       356552  0.0  0.2 759104 65584 ?        Ssl  22:58   0:00 /home/nmh/Code/SWE_FVM/venv/bin/python3 -m ipykernel_launcher -f /home/nmh/.local/share/jupyter/runtime/kernel-8cd334b3-848d-4914-8283-838636611855.json\n",
      "nmh       356613  0.0  0.1 757924 64924 ?        Ssl  22:59   0:00 /home/nmh/Code/SWE_FVM/venv/bin/python3 -m ipykernel_launcher -f /home/nmh/.local/share/jupyter/runtime/kernel-ef8ec378-e9b7-4d79-b45f-cab8d139cc4e.json\n",
      "nmh       361705  0.0  0.2 562684 69120 ?        Ssl  23:08   0:00 /usr/bin/python3 /home/nmh/.vim/pack/YouCompleteMe/opt/YouCompleteMe/python/ycm/../../third_party/ycmd/ycmd --port=36091 --options_file=/tmp/tmplpzrnfbh --log=info --idle_suicide_seconds=1800 --stdout=/tmp/ycmd_36091_stdout_wiyxullt.log --stderr=/tmp/ycmd_36091_stderr_joukpw2f.log\n",
      "nmh       363094 11.1  0.2 1209840 76724 ?       Ssl  23:15   0:01 /home/nmh/Code/SWE_FVM/venv/bin/python3 -m ipykernel_launcher -f /home/nmh/.local/share/jupyter/runtime/kernel-ab5359d6-310b-439a-b55c-d0be63ce4077.json\n",
      "nmh       363126  0.0  0.0   9860  3456 pts/8    Ss+  23:16   0:00 /bin/bash -c ps aux | grep -i python\n",
      "nmh       363128  0.0  0.0   9076  2432 pts/8    S+   23:16   0:00 grep -i python\n"
     ]
    }
   ],
   "source": [
    "!ps aux | grep -i python"
   ]
  },
  {
   "cell_type": "code",
   "execution_count": 13,
   "id": "4b28245f-833a-4570-aa60-dd79262f0edc",
   "metadata": {},
   "outputs": [],
   "source": [
    "import os"
   ]
  },
  {
   "cell_type": "code",
   "execution_count": 20,
   "id": "aee7e69d-212a-44a9-a2b0-1b9abddb56d8",
   "metadata": {},
   "outputs": [
    {
     "data": {
      "text/plain": [
       "363094"
      ]
     },
     "execution_count": 20,
     "metadata": {},
     "output_type": "execute_result"
    }
   ],
   "source": [
    "os.getpid()"
   ]
  },
  {
   "cell_type": "code",
   "execution_count": 21,
   "id": "dfcec36d-f754-4a3d-8c74-577df44b9deb",
   "metadata": {},
   "outputs": [],
   "source": [
    "mesh = swe.Topology.create(nodes, edge_nodes, edge_triangs, triang_nodes, triang_edges, triang_triangs)"
   ]
  },
  {
   "cell_type": "code",
   "execution_count": 22,
   "id": "86bae0f6-74e1-4de6-bb22-50a56373e9e8",
   "metadata": {},
   "outputs": [
    {
     "data": {
      "text/plain": [
       "3"
      ]
     },
     "execution_count": 22,
     "metadata": {},
     "output_type": "execute_result"
    }
   ],
   "source": [
    "mesh.num_nodes()"
   ]
  },
  {
   "cell_type": "code",
   "execution_count": 17,
   "id": "71bb9ec5-666f-4de2-a3ac-79ea2a6eb1ae",
   "metadata": {},
   "outputs": [
    {
     "data": {
      "text/plain": [
       "44070616"
      ]
     },
     "execution_count": 17,
     "metadata": {},
     "output_type": "execute_result"
    }
   ],
   "source": [
    "mesh.num_edges()"
   ]
  },
  {
   "cell_type": "code",
   "execution_count": 9,
   "id": "7f2714d2-b66b-440d-9c8e-d93dcf8fd40c",
   "metadata": {},
   "outputs": [
    {
     "data": {
      "text/plain": [
       "140721212595328"
      ]
     },
     "execution_count": 9,
     "metadata": {},
     "output_type": "execute_result"
    }
   ],
   "source": [
    "mesh.num_elements()"
   ]
  }
 ],
 "metadata": {
  "kernelspec": {
   "display_name": "Python 3 (ipykernel)",
   "language": "python",
   "name": "python3"
  },
  "language_info": {
   "codemirror_mode": {
    "name": "ipython",
    "version": 3
   },
   "file_extension": ".py",
   "mimetype": "text/x-python",
   "name": "python",
   "nbconvert_exporter": "python",
   "pygments_lexer": "ipython3",
   "version": "3.11.4"
  }
 },
 "nbformat": 4,
 "nbformat_minor": 5
}
