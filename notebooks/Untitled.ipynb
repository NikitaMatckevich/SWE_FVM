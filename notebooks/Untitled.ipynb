{
 "cells": [
  {
   "cell_type": "code",
   "execution_count": 1,
   "id": "2aec9bda-60a6-41f3-aab8-fbdac9cd0d9f",
   "metadata": {},
   "outputs": [
    {
     "ename": "ModuleNotFoundError",
     "evalue": "No module named 'gmsh'",
     "output_type": "error",
     "traceback": [
      "\u001b[0;31m---------------------------------------------------------------------------\u001b[0m",
      "\u001b[0;31mModuleNotFoundError\u001b[0m                       Traceback (most recent call last)",
      "Cell \u001b[0;32mIn[1], line 1\u001b[0m\n\u001b[0;32m----> 1\u001b[0m \u001b[38;5;28;01mimport\u001b[39;00m \u001b[38;5;21;01mgmsh\u001b[39;00m\n\u001b[1;32m      2\u001b[0m \u001b[38;5;28;01mimport\u001b[39;00m \u001b[38;5;21;01mnumpy\u001b[39;00m \u001b[38;5;28;01mas\u001b[39;00m \u001b[38;5;21;01mnp\u001b[39;00m\n",
      "\u001b[0;31mModuleNotFoundError\u001b[0m: No module named 'gmsh'"
     ]
    }
   ],
   "source": [
    "import gmsh\n",
    "import numpy as np"
   ]
  },
  {
   "cell_type": "code",
   "execution_count": null,
   "id": "6278ad2b-17d0-48ab-8349-a7f408c10902",
   "metadata": {},
   "outputs": [],
   "source": [
    "gmsh.initialize()\n",
    "gmsh.open(\"basic.msh\")"
   ]
  },
  {
   "cell_type": "code",
   "execution_count": null,
   "id": "5bc9bb64-f33d-4b20-86af-74b1179e394f",
   "metadata": {},
   "outputs": [],
   "source": [
    "# Get nodes\n",
    "node_tags, node_coords, _ = gmsh.model.mesh.getNodes()"
   ]
  },
  {
   "cell_type": "code",
   "execution_count": null,
   "id": "63b38517-2bd6-4aa3-81e7-4ce25a2f83f4",
   "metadata": {},
   "outputs": [],
   "source": [
    "physical_groups = gmsh.model.getEntities()\n",
    "physical_groups"
   ]
  },
  {
   "cell_type": "code",
   "execution_count": null,
   "id": "f51a7830-b101-4f1b-b0ee-8e02c9590590",
   "metadata": {},
   "outputs": [],
   "source": [
    "def getElementToNodeMapping(element_dimension):\n",
    "    type, tags, nodes = gmsh.model.mesh.getElements(dim=element_dimension)\n",
    "    result = {}\n",
    "    num_vertices = element_dimension + 1\n",
    "    for i, tag in enumerate(tags[0]):\n",
    "        key = tuple(nodes[0][num_vertices * i : num_vertices * (i + 1)])\n",
    "        result[key] = tag\n",
    "    return result"
   ]
  },
  {
   "cell_type": "code",
   "execution_count": null,
   "id": "9bbd0bbd-6761-488a-aa3b-4a87a283f647",
   "metadata": {},
   "outputs": [],
   "source": [
    "# Get elements (triangles and edges)\n",
    "edge_nodes = getElementToNodeMapping(element_dimension=1)\n",
    "edge_nodes"
   ]
  },
  {
   "cell_type": "code",
   "execution_count": null,
   "id": "f287d0c5-a5a6-4723-b792-50c9f405e7e3",
   "metadata": {},
   "outputs": [],
   "source": [
    "triang_nodes = getElementToNodeMapping(element_dimension=2)\n",
    "triang_nodes"
   ]
  },
  {
   "cell_type": "code",
   "execution_count": null,
   "id": "2281fc80-6d82-42b2-8e79-e0ce997dcedc",
   "metadata": {},
   "outputs": [],
   "source": [
    "edge_triangles = {}"
   ]
  },
  {
   "cell_type": "code",
   "execution_count": null,
   "id": "1913d8f6-4f7c-4702-90a4-9bab740d18f5",
   "metadata": {},
   "outputs": [],
   "source": [
    "gmsh.model.mesh.getElementEdgeNodes(2)"
   ]
  },
  {
   "cell_type": "code",
   "execution_count": null,
   "id": "d4fbfe00-4097-41b2-9b05-9e10a691f8c6",
   "metadata": {},
   "outputs": [],
   "source": [
    "for tag, type_code, node_ids in zip(element_tags, element_types, element_nodes):\n",
    "    if type_code == 2:  # Triangle\n",
    "        triangles[tag] = node_ids\n",
    "        for i in range(3):\n",
    "            edge = tuple(sorted((node_ids[i], node_ids[(i+1)%3])))\n",
    "            if edge not in edges:\n",
    "                edges[edge] = []\n",
    "            edges[edge].append(tag)\n",
    "    elif type_code == 1:  # Edge\n",
    "        edge = tuple(node_ids)\n",
    "        edges[edge] = tag\n",
    "\n",
    "        # Check if edge is on boundary\n",
    "        boundary_tag = gmsh.model.mesh.getPhysicalGroupsForEntity(1, tag)\n",
    "        if boundary_tag:\n",
    "            if boundary_tag[0] not in boundary_edges:\n",
    "                boundary_edges[boundary_tag[0]] = []\n",
    "            boundary_edges[boundary_tag[0]].append(tag)"
   ]
  },
  {
   "cell_type": "code",
   "execution_count": null,
   "id": "6710bd12-2537-427f-9f70-436ee9181b5e",
   "metadata": {},
   "outputs": [],
   "source": [
    "gmsh.finalize()"
   ]
  }
 ],
 "metadata": {
  "kernelspec": {
   "display_name": "Python 3 (ipykernel)",
   "language": "python",
   "name": "python3"
  },
  "language_info": {
   "codemirror_mode": {
    "name": "ipython",
    "version": 3
   },
   "file_extension": ".py",
   "mimetype": "text/x-python",
   "name": "python",
   "nbconvert_exporter": "python",
   "pygments_lexer": "ipython3",
   "version": "3.11.4"
  }
 },
 "nbformat": 4,
 "nbformat_minor": 5
}
