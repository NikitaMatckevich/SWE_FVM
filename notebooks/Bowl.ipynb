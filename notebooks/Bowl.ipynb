{
 "cells": [
  {
   "cell_type": "code",
   "execution_count": 1,
   "id": "0b4b04f4-72d8-44de-b7bf-357c5d0751a9",
   "metadata": {},
   "outputs": [],
   "source": [
    "import gmsh"
   ]
  },
  {
   "cell_type": "code",
   "execution_count": 2,
   "id": "c876fa60-fe98-45b5-8e41-40e6de499507",
   "metadata": {},
   "outputs": [],
   "source": [
    "# Initialize Gmsh\n",
    "gmsh.initialize()"
   ]
  },
  {
   "cell_type": "code",
   "execution_count": 3,
   "id": "e856149e-4a06-4e8a-9343-72b2a52b1d15",
   "metadata": {
    "scrolled": true
   },
   "outputs": [
    {
     "data": {
      "text/plain": [
       "1"
      ]
     },
     "execution_count": 3,
     "metadata": {},
     "output_type": "execute_result"
    }
   ],
   "source": [
    "# Define the geometry\n",
    "lc = 0.1  # Characteristic length for meshing\n",
    "p1 = gmsh.model.geo.addPoint(0, 0, 0, lc)\n",
    "p2 = gmsh.model.geo.addPoint(8, 0, 0, lc)\n",
    "p3 = gmsh.model.geo.addPoint(8, 8, 0, lc)\n",
    "p4 = gmsh.model.geo.addPoint(0, 8, 0, lc)\n",
    "\n",
    "# Create curves\n",
    "l1 = gmsh.model.geo.addLine(p1, p2)\n",
    "l2 = gmsh.model.geo.addLine(p2, p3)\n",
    "l3 = gmsh.model.geo.addLine(p3, p4)\n",
    "l4 = gmsh.model.geo.addLine(p4, p1)\n",
    "\n",
    "# Create a curve loop\n",
    "cl = gmsh.model.geo.addCurveLoop([l1, l2, l3, l4], 1)\n",
    "\n",
    "# Create a plane surface\n",
    "s = gmsh.model.geo.addPlaneSurface([cl], 1)\n",
    "\n",
    "gmsh.model.geo.synchronize()\n",
    "\n",
    "# Physical surface (optional)\n",
    "gmsh.model.addPhysicalGroup(1, [l1, l2, l3, l4], 1)\n",
    "gmsh.model.addPhysicalGroup(2, [s], 1)"
   ]
  },
  {
   "cell_type": "code",
   "execution_count": 4,
   "id": "a2040c7b-d64f-4276-9cfb-ea054d57fc6a",
   "metadata": {
    "scrolled": true
   },
   "outputs": [
    {
     "name": "stdout",
     "output_type": "stream",
     "text": [
      "Info    : Meshing 1D...\n",
      "Info    : [  0%] Meshing curve 1 (Line)\n",
      "Info    : [ 30%] Meshing curve 2 (Line)\n",
      "Info    : [ 50%] Meshing curve 3 (Line)\n",
      "Info    : [ 80%] Meshing curve 4 (Line)\n",
      "Info    : Done meshing 1D (Wall 0.000341316s, CPU 0.0003s)\n",
      "Info    : Meshing 2D...\n",
      "Info    : Meshing surface 1 (Plane, Frontal-Delaunay)\n",
      "Info    : Done meshing 2D (Wall 0.159852s, CPU 0.156067s)\n",
      "Info    : 7555 nodes 15112 elements\n"
     ]
    }
   ],
   "source": [
    "# Mesh the geometry\n",
    "gmsh.model.mesh.generate(2)"
   ]
  },
  {
   "cell_type": "code",
   "execution_count": 5,
   "id": "8ab6a98d-0fd1-46e7-a79e-84ce9ad692be",
   "metadata": {},
   "outputs": [
    {
     "name": "stdout",
     "output_type": "stream",
     "text": [
      "Info    : Writing 'bowl.msh'...\n",
      "Info    : Done writing 'bowl.msh'\n"
     ]
    }
   ],
   "source": [
    "# Save the mesh to a file\n",
    "gmsh.write(\"bowl.msh\")"
   ]
  },
  {
   "cell_type": "code",
   "execution_count": 6,
   "id": "cee42d81-e774-4367-8239-45fcd83550d3",
   "metadata": {},
   "outputs": [],
   "source": [
    "# Finalize Gmsh\n",
    "gmsh.finalize()"
   ]
  }
 ],
 "metadata": {
  "kernelspec": {
   "display_name": "Python 3 (ipykernel)",
   "language": "python",
   "name": "python3"
  },
  "language_info": {
   "codemirror_mode": {
    "name": "ipython",
    "version": 3
   },
   "file_extension": ".py",
   "mimetype": "text/x-python",
   "name": "python",
   "nbconvert_exporter": "python",
   "pygments_lexer": "ipython3",
   "version": "3.12.1"
  }
 },
 "nbformat": 4,
 "nbformat_minor": 5
}
